{
 "cells": [
  {
   "cell_type": "markdown",
   "metadata": {},
   "source": [
    "Calculating Sentiment"
   ]
  },
  {
   "cell_type": "code",
   "execution_count": null,
   "metadata": {},
   "outputs": [],
   "source": [
    "import pandas as pd\n",
    "from nltk.sentiment.vader import SentimentIntensityAnalyzer as SIA\n",
    "\n",
    "\n",
    "df=pd.read_csv(r'file_name_here') #Input File\n",
    "\n",
    "results = {\"Company\": [], #dictionary setup\n",
    "\t\t   \"Date\": [],\n",
    "\t\t   \"Title\": [],\n",
    "\t\t   \"vTitleScore\": []} #vader title score\n",
    "\n",
    "sia=SIA() #initialize vader sentiment\n",
    "\n",
    "for index, row in df.iterrows():\n",
    "\tvader = sia.polarity_scores(row[\"title\"]) #Create the vader score\n",
    "\tresults[\"Company\"].append(row[\"company\"]) \n",
    "\tresults[\"Date\"].append(row[\"fixed_pubDate\"])\n",
    "\tresults['Title'].append(row[\"title\"])\n",
    "\tresults[\"vTitleScore\"].append(vader[\"compound\"]) #Save the vader score\n",
    "\n",
    "\t\n",
    "#output to dataframe and csv\n",
    "output=pd.DataFrame(results)\n",
    "output.to_csv('output_name_here') #Output csv"
   ]
  },
  {
   "cell_type": "markdown",
   "metadata": {},
   "source": [
    "Joining dataframes in Pandas"
   ]
  },
  {
   "cell_type": "code",
   "execution_count": null,
   "metadata": {},
   "outputs": [],
   "source": [
    "import pandas as pd\n",
    "df1 = pd.read_csv('FF3.csv')\n",
    "df2 = pd.read_csv('SentimentScores.csv')\n",
    "dfOutput=pd.merge(df1, df2, on='date')\n",
    "dfOutput.to_csv('YourModelFile.csv')"
   ]
  },
  {
   "cell_type": "markdown",
   "metadata": {},
   "source": [
    "Running linear regressions "
   ]
  },
  {
   "cell_type": "code",
   "execution_count": null,
   "metadata": {},
   "outputs": [],
   "source": [
    "import pandas as pd\n",
    "import sklearn.linear_model as skl\n",
    "\n",
    "#set up all of the inputs\n",
    "df = pd.read_csv('YourModelFile.csv') #File input\n",
    "\n",
    "x = df[['XSMarketReturn','SMB', 'HML']] #Input variables without sentiment\n",
    "xSent = df[['XSMarketReturn','SMB', 'HML', 'SentimentScore']] #Input Variables with sentiment\n",
    "y = df[['FB_XS_RET']]\n",
    "\n",
    "#calc the adjR2 for each model (could/should make a function to do this instead of writing it a bunch of times)\n",
    "def adjrsquared(xVal, yVal): \n",
    "\treg = skl.LinearRegression().fit(xVal, yVal) #run the regression for the given pair of data frames\n",
    "\tadjVal = 1 - (1-reg.score(xVal, yVal))*(len(yVal)-1)/(len(yVal)-xVal.shape[1]-1) #calculate the adjRsq for the regression\n",
    "\treturn adjVal; #return the result of the adjRsq calculation\n",
    "\n",
    "adjR2 = adjrsquared(x, y) #calculate the adjusted rsq for the model without sentiment\n",
    "adjR2Sent = adjrsquared(xSent, y) #calculate the adjusted rsq for the model with sentiment\n",
    "\n"
   ]
  },
  {
   "cell_type": "markdown",
   "metadata": {},
   "source": [
    "Printing OLS"
   ]
  },
  {
   "cell_type": "code",
   "execution_count": null,
   "metadata": {},
   "outputs": [],
   "source": [
    "def print_ols(x,y):\n",
    "\timport statsmodels.api as sm\n",
    "\txConst=sm.add_constant(x)\n",
    "\tmodel=sm.OLS(y, xConst).fit()\n",
    "\tpredictions=model.predict(xConst)\n",
    "\tprint(model.summary())"
   ]
  }
 ],
 "metadata": {
  "kernelspec": {
   "display_name": "Python 3",
   "language": "python",
   "name": "python3"
  },
  "language_info": {
   "codemirror_mode": {
    "name": "ipython",
    "version": 3
   },
   "file_extension": ".py",
   "mimetype": "text/x-python",
   "name": "python",
   "nbconvert_exporter": "python",
   "pygments_lexer": "ipython3",
   "version": "3.7.3"
  }
 },
 "nbformat": 4,
 "nbformat_minor": 4
}
